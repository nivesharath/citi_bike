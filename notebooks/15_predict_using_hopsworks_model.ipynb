{
 "cells": [
  {
   "cell_type": "code",
   "execution_count": 17,
   "id": "e77bdbaf-4462-46e5-9a38-07c4ed232b73",
   "metadata": {},
   "outputs": [
    {
     "name": "stdout",
     "output_type": "stream",
     "text": [
      "The autoreload extension is already loaded. To reload it, use:\n",
      "  %reload_ext autoreload\n"
     ]
    }
   ],
   "source": [
    "%load_ext autoreload\n",
    "%autoreload 2\n",
    "\n",
    "import sys\n",
    "import os\n",
    "from datetime import datetime, timedelta\n",
    "import pandas as pd\n",
    "\n",
    "# Add project root to Python path\n",
    "sys.path.append(os.path.abspath(os.path.join(os.getcwd(), \"..\")))\n",
    "\n",
    "import src.config as config\n",
    "from src.inference import get_feature_store, load_model_from_registry, get_model_predictions\n",
    "from src.data_utils import transform_ts_data_info_features\n"
   ]
  },
  {
   "cell_type": "code",
   "execution_count": 18,
   "id": "5f2ff7ad-c2ab-4437-9e2a-c71ccf3f0c5d",
   "metadata": {},
   "outputs": [
    {
     "name": "stdout",
     "output_type": "stream",
     "text": [
      "🔐 Logging in to Hopsworks...\n",
      "2025-05-10 10:32:35,765 INFO: Closing external client and cleaning up certificates.\n",
      "Connection closed.\n",
      "2025-05-10 10:32:35,866 INFO: Initializing external client\n",
      "2025-05-10 10:32:35,869 INFO: Base URL: https://c.app.hopsworks.ai:443\n",
      "2025-05-10 10:32:36,975 INFO: Python Engine initialized.\n",
      "\n",
      "Logged in to project, explore it here https://c.app.hopsworks.ai:443/p/1215672\n",
      "Finished: Reading data from Hopsworks, using Hopsworks Feature Query Service (0.70s) \n",
      "✅ Loaded features: (26535, 3)\n"
     ]
    }
   ],
   "source": [
    "import pandas as pd\n",
    "import numpy as np\n",
    "import joblib\n",
    "import mlflow\n",
    "import hopsworks\n",
    "from sklearn.metrics import mean_squared_error, mean_absolute_error\n",
    "from xgboost import XGBRegressor\n",
    "from datetime import timedelta\n",
    "\n",
    "from src import config as c\n",
    "from src.pipeline_utils import create_lag_features\n",
    "mlflow.set_experiment(\"xgboost-lag3\")\n",
    "\n",
    "# Step 2: Load Features from Hopsworks\n",
    "print(\"🔐 Logging in to Hopsworks...\")\n",
    "project = hopsworks.login(project=c.HOPSWORKS_PROJECT_NAME, api_key_value=c.HOPSWORKS_API_KEY)\n",
    "fs = project.get_feature_store()\n",
    "\n",
    "fg = fs.get_feature_group(name=c.FEATURE_GROUP_NAME, version=c.FEATURE_GROUP_VERSION)\n",
    "df = fg.read()\n",
    "print(\"✅ Loaded features:\", df.shape)"
   ]
  },
  {
   "cell_type": "code",
   "execution_count": 19,
   "id": "90d1ab4e-0e15-4112-ba8f-d6225c0399a9",
   "metadata": {},
   "outputs": [
    {
     "name": "stdout",
     "output_type": "stream",
     "text": [
      "✅ Data with lags: (26526, 6)\n"
     ]
    }
   ],
   "source": [
    "# Step 3: Preprocess Features (create lags)\n",
    "df = df.sort_values([\"pickup_location_id\", \"pickup_hour\"])\n",
    "df = create_lag_features(df, lags=[1, 2, 3], group_col=\"pickup_location_id\", target_col=\"rides\")\n",
    "df = df.dropna()\n",
    "print(\"✅ Data with lags:\", df.shape)"
   ]
  },
  {
   "cell_type": "code",
   "execution_count": 20,
   "id": "01de7569-09e0-48d1-9704-0e65effe8802",
   "metadata": {},
   "outputs": [],
   "source": [
    "# Step 4: Train/Test Split (last 7 days as test)\n",
    "df[\"pickup_hour\"] = pd.to_datetime(df[\"pickup_hour\"])\n",
    "max_date = df.pickup_hour.max()\n",
    "split_date = max_date - timedelta(days=7)\n",
    "train_df = df[df.pickup_hour < split_date]\n",
    "test_df = df[df.pickup_hour >= split_date]\n",
    "\n",
    "X_train = train_df[[\"rides_t-1\", \"rides_t-2\", \"rides_t-3\"]]\n",
    "y_train = train_df[\"rides\"]\n",
    "X_test = test_df[[\"rides_t-1\", \"rides_t-2\", \"rides_t-3\"]]\n",
    "y_test = test_df[\"rides\"]"
   ]
  },
  {
   "cell_type": "code",
   "execution_count": 21,
   "id": "0cfd7311-4536-4fd1-a35a-fc7474bb4d1d",
   "metadata": {},
   "outputs": [
    {
     "name": "stderr",
     "output_type": "stream",
     "text": [
      "FutureWarning: 'squared' is deprecated in version 1.4 and will be removed in 1.6. To calculate the root mean squared error, use the function'root_mean_squared_error'.\n",
      "2025/05/10 10:32:53 WARNING mlflow.models.model: Model logged without a signature and input example. Please set `input_example` parameter when logging the model to auto infer the model signature.\n"
     ]
    },
    {
     "name": "stdout",
     "output_type": "stream",
     "text": [
      "🏃 View run likeable-moose-352 at: https://dagshub.com/nivesharath/citi_bike.mlflow/#/experiments/7/runs/44333edf28524987a23f95c33ddb622e\n",
      "🧪 View experiment at: https://dagshub.com/nivesharath/citi_bike.mlflow/#/experiments/7\n",
      "✅ Model trained. RMSE: 4.8068401157508545 MAE: 3.301681501743121\n"
     ]
    }
   ],
   "source": [
    "# Step 5: Model Training and MLflow Tracking\n",
    "mlflow.set_experiment(\"xgboost-lag3\")\n",
    "with mlflow.start_run():\n",
    "    model = XGBRegressor(n_estimators=100, learning_rate=0.1, random_state=42)\n",
    "    model.fit(X_train, y_train)\n",
    "\n",
    "    preds = model.predict(X_test)\n",
    "    rmse = mean_squared_error(y_test, preds, squared=False)\n",
    "    mae = mean_absolute_error(y_test, preds)\n",
    "\n",
    "    mlflow.log_param(\"model_type\", \"XGBoost\")\n",
    "    mlflow.log_param(\"n_estimators\", 100)\n",
    "    mlflow.log_param(\"learning_rate\", 0.1)\n",
    "    mlflow.log_metric(\"rmse\", rmse)\n",
    "    mlflow.log_metric(\"mae\", mae)\n",
    "\n",
    "    # Save model\n",
    "    model_path = c.MODELS_DIR / \"xgb_model.pkl\"\n",
    "    joblib.dump(model, model_path)\n",
    "    mlflow.sklearn.log_model(model, \"model\")\n",
    "\n",
    "print(\"✅ Model trained. RMSE:\", rmse, \"MAE:\", mae)"
   ]
  },
  {
   "cell_type": "code",
   "execution_count": 22,
   "id": "0150be0b-5b4b-4c4c-9bdf-83a7f92194f9",
   "metadata": {},
   "outputs": [
    {
     "name": "stdout",
     "output_type": "stream",
     "text": [
      "✅ Model trained. RMSE: 4.8068401157508545 MAE: 3.301681501743121\n"
     ]
    }
   ],
   "source": [
    "print(\"✅ Model trained. RMSE:\", rmse, \"MAE:\", mae)"
   ]
  },
  {
   "cell_type": "code",
   "execution_count": 23,
   "id": "f6c0988a-52e4-4068-9e25-d3611f929a40",
   "metadata": {},
   "outputs": [
    {
     "name": "stderr",
     "output_type": "stream",
     "text": [
      "ProvenanceWarning: Model schema cannot not be inferred without both the feature view and the training dataset version.\n"
     ]
    },
    {
     "data": {
      "application/vnd.jupyter.widget-view+json": {
       "model_id": "a349d1af096f4590b1ab9dc95ba53b09",
       "version_major": 2,
       "version_minor": 0
      },
      "text/plain": [
       "  0%|          | 0/6 [00:00<?, ?it/s]"
      ]
     },
     "metadata": {},
     "output_type": "display_data"
    },
    {
     "data": {
      "application/vnd.jupyter.widget-view+json": {
       "model_id": "8847552a668d40669b4ad92799f03612",
       "version_major": 2,
       "version_minor": 0
      },
      "text/plain": [
       "Uploading C:\\Users\\nives\\Downloads\\sp25_citi_bike\\models\\xgb_model.pkl: 0.000%|          | 0/411655 elapsed<00…"
      ]
     },
     "metadata": {},
     "output_type": "display_data"
    },
    {
     "name": "stdout",
     "output_type": "stream",
     "text": [
      "Model created, explore it at https://c.app.hopsworks.ai:443/p/1215672/models/citi_bike_data/7\n",
      "📦 Model registered in Hopsworks: citi_bike_data\n"
     ]
    }
   ],
   "source": [
    "# Step 6: Register Model in Hopsworks\n",
    "mr = project.get_model_registry()\n",
    "\n",
    "model_hops = mr.python.create_model(\n",
    "    name=c.MODEL_NAME,\n",
    "    metrics={\"rmse\": rmse},\n",
    "    description=\"XGBoost model trained on lag features\"\n",
    ")\n",
    "\n",
    "# ✅ Add this to upload the model file\n",
    "model_hops.save(str(model_path))\n",
    "\n",
    "print(\"📦 Model registered in Hopsworks:\", model_hops.name)\n"
   ]
  },
  {
   "cell_type": "code",
   "execution_count": 24,
   "id": "d910a96c-774d-4cf7-8794-caa50e3eb88f",
   "metadata": {},
   "outputs": [
    {
     "data": {
      "application/vnd.jupyter.widget-view+json": {
       "model_id": "a988a9f22b254079b628ac4822f8ab5e",
       "version_major": 2,
       "version_minor": 0
      },
      "text/plain": [
       "  0%|          | 0/6 [00:00<?, ?it/s]"
      ]
     },
     "metadata": {},
     "output_type": "display_data"
    },
    {
     "data": {
      "application/vnd.jupyter.widget-view+json": {
       "model_id": "ee8955911cdc435b92bd84fb2b87987a",
       "version_major": 2,
       "version_minor": 0
      },
      "text/plain": [
       "Uploading C:\\Users\\nives\\Downloads\\sp25_citi_bike\\models\\xgb_model.pkl: 0.000%|          | 0/411655 elapsed<00…"
      ]
     },
     "metadata": {},
     "output_type": "display_data"
    },
    {
     "name": "stdout",
     "output_type": "stream",
     "text": [
      "Model created, explore it at https://c.app.hopsworks.ai:443/p/1215672/models/citi_bike_data/8\n",
      "📦 Model registered in Hopsworks: citi_bike_data\n"
     ]
    }
   ],
   "source": [
    "# Step 6: Register Model in Hopsworks\n",
    "mr = project.get_model_registry()\n",
    "\n",
    "model_hops = mr.python.create_model(\n",
    "    name=c.MODEL_NAME,\n",
    "    metrics={\"mae\": mae},\n",
    "    description=\"XGBoost model trained on lag features\"\n",
    ")\n",
    "\n",
    "# ✅ Add this to upload the model file\n",
    "model_hops.save(str(model_path))\n",
    "\n",
    "print(\"📦 Model registered in Hopsworks:\", model_hops.name)\n"
   ]
  },
  {
   "cell_type": "code",
   "execution_count": null,
   "id": "3b2071f3-a16e-42d4-88a5-74233c74e406",
   "metadata": {},
   "outputs": [],
   "source": []
  }
 ],
 "metadata": {
  "kernelspec": {
   "display_name": "nyc_taxi_proj25",
   "language": "python",
   "name": "python3"
  },
  "language_info": {
   "codemirror_mode": {
    "name": "ipython",
    "version": 3
   },
   "file_extension": ".py",
   "mimetype": "text/x-python",
   "name": "python",
   "nbconvert_exporter": "python",
   "pygments_lexer": "ipython3",
   "version": "3.11.11"
  }
 },
 "nbformat": 4,
 "nbformat_minor": 5
}
