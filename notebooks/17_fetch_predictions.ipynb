{
 "cells": [
  {
   "cell_type": "code",
   "execution_count": 9,
   "id": "1555e775-4045-409a-a2cd-b22934b5fe3b",
   "metadata": {},
   "outputs": [],
   "source": [
    "# %load_ext autoreload\n",
    "# %autoreload 2\n",
    "\n",
    "import sys\n",
    "import os\n",
    "import pandas as pd\n",
    "from datetime import datetime, timezone, timedelta\n",
    "\n",
    "# Add the parent directory to the Python path\n",
    "sys.path.append(os.path.abspath(os.path.join(os.getcwd(), \"..\")))\n",
    "\n",
    "import src.config as config\n",
    "from src.inference import get_feature_store\n"
   ]
  },
  {
   "cell_type": "code",
   "execution_count": 10,
   "id": "d25c8599",
   "metadata": {},
   "outputs": [
    {
     "name": "stdout",
     "output_type": "stream",
     "text": [
      "2025-05-10 10:34:23,650 INFO: Closing external client and cleaning up certificates.\n"
     ]
    },
    {
     "name": "stdout",
     "output_type": "stream",
     "text": [
      "Connection closed.\n",
      "2025-05-10 10:34:23,770 INFO: Initializing external client\n",
      "2025-05-10 10:34:23,775 INFO: Base URL: https://c.app.hopsworks.ai:443\n",
      "2025-05-10 10:34:25,046 INFO: Python Engine initialized.\n",
      "\n",
      "Logged in to project, explore it here https://c.app.hopsworks.ai:443/p/1215672\n",
      "Finished: Reading data from Hopsworks, using Hopsworks Feature Query Service (0.43s) \n",
      "📅 Using most recent available hour for predictions: 2024-01-01 00:00:00+00:00\n"
     ]
    }
   ],
   "source": [
    "import hopsworks\n",
    "\n",
    "# 🔐 Authenticate with Hopsworks\n",
    "project = hopsworks.login()\n",
    "\n",
    "# 🌟 Get the feature store\n",
    "fs = project.get_feature_store()\n",
    "fg = fs.get_feature_group(\n",
    "    name=config.FEATURE_GROUP_MODEL_PREDICTION,\n",
    "    version=config.FEATURE_GROUP_MODEL_PREDICTION_VERSION\n",
    ")\n",
    "\n",
    "# 📦 Read and filter data\n",
    "df = fg.read()\n",
    "# Use fixed datetime since April data is not available\n",
    "fixed_hour = df[\"pickup_hour\"].dropna().max()\n",
    "print(f\"📅 Using most recent available hour for predictions: {fixed_hour}\")\n",
    "predictions = df[df[\"pickup_hour\"] == fixed_hour]\n"
   ]
  },
  {
   "cell_type": "code",
   "execution_count": 11,
   "id": "5e79d949",
   "metadata": {},
   "outputs": [
    {
     "data": {
      "text/html": [
       "<div>\n",
       "<style scoped>\n",
       "    .dataframe tbody tr th:only-of-type {\n",
       "        vertical-align: middle;\n",
       "    }\n",
       "\n",
       "    .dataframe tbody tr th {\n",
       "        vertical-align: top;\n",
       "    }\n",
       "\n",
       "    .dataframe thead th {\n",
       "        text-align: right;\n",
       "    }\n",
       "</style>\n",
       "<table border=\"1\" class=\"dataframe\">\n",
       "  <thead>\n",
       "    <tr style=\"text-align: right;\">\n",
       "      <th></th>\n",
       "      <th>pickup_location_id</th>\n",
       "      <th>pickup_hour</th>\n",
       "      <th>predicted_rides</th>\n",
       "    </tr>\n",
       "  </thead>\n",
       "  <tbody>\n",
       "    <tr>\n",
       "      <th>2</th>\n",
       "      <td>6948.10</td>\n",
       "      <td>2024-01-01 00:00:00+00:00</td>\n",
       "      <td>9</td>\n",
       "    </tr>\n",
       "    <tr>\n",
       "      <th>1</th>\n",
       "      <td>5329.03</td>\n",
       "      <td>2024-01-01 00:00:00+00:00</td>\n",
       "      <td>4</td>\n",
       "    </tr>\n",
       "    <tr>\n",
       "      <th>0</th>\n",
       "      <td>6140.05</td>\n",
       "      <td>2024-01-01 00:00:00+00:00</td>\n",
       "      <td>3</td>\n",
       "    </tr>\n",
       "  </tbody>\n",
       "</table>\n",
       "</div>"
      ],
      "text/plain": [
       "  pickup_location_id               pickup_hour  predicted_rides\n",
       "2            6948.10 2024-01-01 00:00:00+00:00                9\n",
       "1            5329.03 2024-01-01 00:00:00+00:00                4\n",
       "0            6140.05 2024-01-01 00:00:00+00:00                3"
      ]
     },
     "execution_count": 11,
     "metadata": {},
     "output_type": "execute_result"
    }
   ],
   "source": [
    "top_locations = predictions.sort_values(\"predicted_rides\", ascending=False)\n",
    "top_locations[[\"pickup_location_id\", \"pickup_hour\", \"predicted_rides\"]].head(10)\n"
   ]
  },
  {
   "cell_type": "code",
   "execution_count": null,
   "id": "dc350c61",
   "metadata": {},
   "outputs": [],
   "source": []
  }
 ],
 "metadata": {
  "kernelspec": {
   "display_name": "nyc_taxi_proj25",
   "language": "python",
   "name": "python3"
  },
  "language_info": {
   "codemirror_mode": {
    "name": "ipython",
    "version": 3
   },
   "file_extension": ".py",
   "mimetype": "text/x-python",
   "name": "python",
   "nbconvert_exporter": "python",
   "pygments_lexer": "ipython3",
   "version": "3.11.11"
  }
 },
 "nbformat": 4,
 "nbformat_minor": 5
}
